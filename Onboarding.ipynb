{
 "cells": [
  {
   "cell_type": "markdown",
   "source": [
    "# Globals"
   ],
   "metadata": {}
  },
  {
   "cell_type": "code",
   "execution_count": null,
   "source": [
    "$clientName = \"Hides of Excellence\"\r\n",
    "$subscriptionId = \"1d474976-ec76-463d-86ad-9e5a44c8e434\"\r\n",
    "$tenantName = \"hidesofleather.onmicrosoft.com\""
   ],
   "outputs": [],
   "metadata": {
    "dotnet_interactive": {
     "language": "pwsh"
    }
   }
  },
  {
   "cell_type": "markdown",
   "source": [
    "# Establish Partner\r\n",
    "\r\n",
    "In MS Partner Network, generate link to onboard new Partner. This link will need to be actioned by GA on the clients account. This will establish the partner relationship.\r\n",
    "\r\n",
    "# Create a Client group in our AzureAD\r\n",
    "\r\n",
    "We will use Azure Lighthouse to project the members of this group in our AD as a contributor role into clients subscription"
   ],
   "metadata": {}
  },
  {
   "cell_type": "code",
   "execution_count": null,
   "source": [
    "az login --tenant \"sodadigital.com.au\""
   ],
   "outputs": [
    {
     "output_type": "unknown",
     "data": {
      "application/x.notebook.error-traceback": "{\"ename\":\"Error\",\"evalue\":\"System.OperationCanceledException: Command :SubmitCode: $displayName = \\\"${clientName} (Azure Contributor)\\\" ... cancelled.\",\"traceback\":[]}"
     }
    }
   ],
   "metadata": {
    "dotnet_interactive": {
     "language": "pwsh"
    }
   }
  },
  {
   "cell_type": "code",
   "execution_count": null,
   "source": [
    "$displayName = \"${clientName} (Azure Contributor)\"\r\n",
    "$groupId = az ad group create --display-name $displayName --query query \"objectId\"\r\n"
   ],
   "outputs": [
    {
     "output_type": "unknown",
     "data": {
      "application/x.notebook.error-traceback": "{\"ename\":\"Error\",\"evalue\":\"System.OperationCanceledException: Command :SubmitCode: $groupId = az ad group create --display-name --mai ... cancelled.\",\"traceback\":[]}"
     }
    }
   ],
   "metadata": {
    "dotnet_interactive": {
     "language": "pwsh"
    }
   }
  },
  {
   "cell_type": "markdown",
   "source": [
    "# Admin On Behalf Of (AOBO)\r\n",
    "\r\n",
    "MS/Arrow no longer automatically adds the AOBO access when a new subscription is added. We must add the `AdminAgent` group in our AD toLogin as an owner on the customer tenant. This will then be propogated through as a Foreign Owner"
   ],
   "metadata": {}
  },
  {
   "cell_type": "code",
   "execution_count": null,
   "source": [
    "az login --tenant $tenantName"
   ],
   "outputs": [
    {
     "output_type": "unknown",
     "data": {
      "application/x.notebook.error-traceback": "{\"ename\":\"Error\",\"evalue\":\"Cell execution cancelled by user\",\"traceback\":[]}"
     }
    }
   ],
   "metadata": {
    "dotnet_interactive": {
     "language": "pwsh"
    }
   }
  },
  {
   "cell_type": "code",
   "execution_count": null,
   "source": [
    "New-AzRoleAssignment -objectid 4c20a97a-a661-4973-b3e1-d11abf11cb53 -RoleDefinitionName \"Owner\" -scope \"/subscriptions/919b66f2-a293-4bce-b963-a7c8c687498e\""
   ],
   "outputs": [],
   "metadata": {
    "dotnet_interactive": {
     "language": "pwsh"
    }
   }
  },
  {
   "cell_type": "code",
   "execution_count": null,
   "source": [
    "az role assignment create --role owner --assignee-object-id 4c20a97a-a661-4973-b3e1-d11abf11cb53 --scope \"/subscriptions/{$subscriptionId}\""
   ],
   "outputs": [],
   "metadata": {
    "dotnet_interactive": {
     "language": "pwsh"
    }
   }
  },
  {
   "cell_type": "code",
   "execution_count": null,
   "source": [
    "az account set --subscription $subscriptionId"
   ],
   "outputs": [
    {
     "output_type": "unknown",
     "data": {
      "application/x.notebook.error-traceback": "{\"ename\":\"Error\",\"evalue\":\"System.OperationCanceledException: Command :SubmitCode: az account set --subscription $subscriptionId cancelled.\",\"traceback\":[]}"
     }
    }
   ],
   "metadata": {
    "dotnet_interactive": {
     "language": "pwsh"
    }
   }
  },
  {
   "cell_type": "markdown",
   "source": [
    "# Azure-Lighthouse\r\n",
    "\r\n"
   ],
   "metadata": {}
  },
  {
   "cell_type": "code",
   "execution_count": null,
   "source": [
    "az deployment sub create --location \"australiaeast\" --template-file .\\lighthouse-arm.json --parameters .\\lighthouse-parameters.json "
   ],
   "outputs": [],
   "metadata": {
    "dotnet_interactive": {
     "language": "pwsh"
    }
   }
  }
 ],
 "metadata": {
  "kernelspec": {
   "display_name": ".NET (C#)",
   "language": "C#",
   "name": ".net-csharp"
  },
  "language_info": {
   "file_extension": ".cs",
   "mimetype": "text/x-csharp",
   "name": "C#",
   "pygments_lexer": "csharp",
   "version": "9.0"
  },
  "orig_nbformat": 2
 },
 "nbformat": 4,
 "nbformat_minor": 2
}